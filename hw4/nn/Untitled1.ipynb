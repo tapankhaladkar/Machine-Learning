{
 "cells": [
  {
   "cell_type": "code",
   "execution_count": 6,
   "id": "ef84a5b7",
   "metadata": {},
   "outputs": [],
   "source": [
    "import setup_problem\n",
    "from sklearn.base import BaseEstimator, RegressorMixin\n",
    "import numpy as np\n",
    "import nodes\n",
    "import graph\n",
    "import plot_utils"
   ]
  },
  {
   "cell_type": "code",
   "execution_count": 19,
   "id": "36d95ce7",
   "metadata": {},
   "outputs": [],
   "source": [
    "class RidgeRegression(BaseEstimator, RegressorMixin):\n",
    "    \"\"\" Ridge regression with computation graph \"\"\"\n",
    "    def __init__(self, l2_reg=1, step_size=.005,  max_num_epochs = 5000):\n",
    "        self.l2_reg = l2_reg\n",
    "        self.max_num_epochs = max_num_epochs\n",
    "        self.step_size = step_size\n",
    "\n",
    "        # Build computation graph\n",
    "        self.x = nodes.ValueNode(node_name=\"x\") # to hold a vector input\n",
    "        self.y = nodes.ValueNode(node_name=\"y\") # to hold a scalar response\n",
    "        self.w = nodes.ValueNode(node_name=\"w\") # to hold the parameter vector\n",
    "        self.b = nodes.ValueNode(node_name=\"b\") # to hold the bias parameter (scalar)\n",
    "        self.prediction = nodes.VectorScalarAffineNode(x=self.x, w=self.w, b=self.b,\n",
    "                                                 node_name=\"prediction\")\n",
    "        self.square_loss = nodes.SquaredL2DistanceNode(a=self.prediction, b=self.y,\n",
    "                                                  node_name=\"square_loss\")\n",
    "    \n",
    "        # L2 regularization term (only for w)\n",
    "        self.l2_penalty = nodes.L2NormPenaltyNode(l2_reg=self.l2_reg, w=self.w,\n",
    "                                             node_name=\"l2_penalty\")\n",
    "    \n",
    "        # Total loss = square_loss + l2_penalty\n",
    "        self.total_loss = nodes.SumNode(a=self.square_loss, b=self.l2_penalty,\n",
    "                                   node_name=\"total_loss\")\n",
    "    \n",
    "        # Build computation graph\n",
    "        self.graph = graph.ComputationGraphFunction(inputs=[self.x],# List of input nodes\n",
    "                                                outcomes=[self.y],            # List of outcome nodes\n",
    "                                                parameters=[self.w, self.b],  # List of parameter nodes\n",
    "                                                prediction=self.prediction,    # Prediction node\n",
    "                                                objective=self.total_loss)     # Objective node"
   ]
  },
  {
   "cell_type": "code",
   "execution_count": 20,
   "id": "4e6b9667",
   "metadata": {},
   "outputs": [],
   "source": [
    "def fit(self, X, y):\n",
    "        num_instances, num_ftrs = X.shape\n",
    "        y = y.reshape(-1)\n",
    "\n",
    "        init_parameter_values = {\"w\": np.zeros(num_ftrs), \"b\": np.array(0.0)}\n",
    "        self.graph.set_parameters(init_parameter_values)\n",
    "\n",
    "        for epoch in range(self.max_num_epochs):\n",
    "            shuffle = np.random.permutation(num_instances)\n",
    "            epoch_obj_tot = 0.0\n",
    "            for j in shuffle:\n",
    "                obj, grads = self.graph.get_gradients(input_values = {\"x\": X[j]},\n",
    "                                                    outcome_values = {\"y\": y[j]})\n",
    "                #print(obj)\n",
    "                epoch_obj_tot += obj\n",
    "                # Take step in negative gradient direction\n",
    "                steps = {}\n",
    "                for param_name in grads:\n",
    "                    steps[param_name] = -self.step_size * grads[param_name]\n",
    "                self.graph.increment_parameters(steps)\n",
    "\n",
    "            if epoch % 50 == 0:\n",
    "                train_loss = sum((y - self.predict(X,y)) **2)/num_instances\n",
    "                print(\"Epoch \",epoch,\": Ave objective=\",epoch_obj_tot/num_instances,\" Ave training loss: \",train_loss)"
   ]
  },
  {
   "cell_type": "code",
   "execution_count": 21,
   "id": "330f4f09",
   "metadata": {},
   "outputs": [],
   "source": [
    "def predict(self, X, y=None):\n",
    "        try:\n",
    "            getattr(self, \"graph\")\n",
    "        except AttributeError:\n",
    "            raise RuntimeError(\"You must train classifer before predicting data!\")\n",
    "\n",
    "        num_instances = X.shape[0]\n",
    "        preds = np.zeros(num_instances)\n",
    "        for j in range(num_instances):\n",
    "            preds[j] = self.graph.get_prediction(input_values={\"x\":X[j]})\n",
    "\n",
    "        return preds"
   ]
  },
  {
   "cell_type": "code",
   "execution_count": 22,
   "id": "ca92a3b2",
   "metadata": {},
   "outputs": [],
   "source": [
    "def main():\n",
    "    data_fname = \"data.pickle\"\n",
    "    x_train, y_train, x_val, y_val, target_fn, coefs_true, featurize = setup_problem.load_problem(data_fname)\n",
    "\n",
    "    # Generate features\n",
    "    X_train = featurize(x_train)\n",
    "    X_val = featurize(x_val)\n",
    "\n",
    "    pred_fns = []\n",
    "    x = np.sort(np.concatenate([np.arange(0,1,.001), x_train]))\n",
    "    X = featurize(x)\n",
    "\n",
    "    l2reg = 1\n",
    "    estimator = RidgeRegression(l2_reg=l2reg, step_size=0.00005, max_num_epochs=2000)\n",
    "    estimator.fit(X_train, y_train)\n",
    "    name = \"Ridge with L2Reg=\"+str(l2reg)\n",
    "    pred_fns.append({\"name\":name, \"preds\": estimator.predict(X) })\n",
    "\n",
    "\n",
    "    l2reg = 0\n",
    "    estimator = RidgeRegression(l2_reg=l2reg, step_size=0.0005, max_num_epochs=500)\n",
    "    estimator.fit(X_train, y_train)\n",
    "    name = \"Ridge with L2Reg=\"+str(l2reg)\n",
    "    pred_fns.append({\"name\":name, \"preds\": estimator.predict(X) })\n",
    "\n",
    "    # Let's plot prediction functions and compare coefficients for several fits\n",
    "    # and the target function.\n",
    "\n",
    "    pred_fns.append({\"name\": \"Target Parameter Values (i.e. Bayes Optimal)\", \"coefs\": coefs_true, \"preds\": target_fn(x)})\n",
    "\n",
    "    plot_utils.plot_prediction_functions(x, pred_fns, x_train, y_train, legend_loc=\"best\")\n"
   ]
  },
  {
   "cell_type": "code",
   "execution_count": 23,
   "id": "6d673260",
   "metadata": {},
   "outputs": [
    {
     "ename": "AttributeError",
     "evalue": "'RidgeRegression' object has no attribute 'fit'",
     "output_type": "error",
     "traceback": [
      "\u001b[0;31m---------------------------------------------------------------------------\u001b[0m",
      "\u001b[0;31mAttributeError\u001b[0m                            Traceback (most recent call last)",
      "Cell \u001b[0;32mIn[23], line 2\u001b[0m\n\u001b[1;32m      1\u001b[0m \u001b[38;5;28;01mif\u001b[39;00m \u001b[38;5;18m__name__\u001b[39m \u001b[38;5;241m==\u001b[39m \u001b[38;5;124m'\u001b[39m\u001b[38;5;124m__main__\u001b[39m\u001b[38;5;124m'\u001b[39m:\n\u001b[0;32m----> 2\u001b[0m     main()\n",
      "Cell \u001b[0;32mIn[22], line 15\u001b[0m, in \u001b[0;36mmain\u001b[0;34m()\u001b[0m\n\u001b[1;32m     13\u001b[0m l2reg \u001b[38;5;241m=\u001b[39m \u001b[38;5;241m1\u001b[39m\n\u001b[1;32m     14\u001b[0m estimator \u001b[38;5;241m=\u001b[39m RidgeRegression(l2_reg\u001b[38;5;241m=\u001b[39ml2reg, step_size\u001b[38;5;241m=\u001b[39m\u001b[38;5;241m0.00005\u001b[39m, max_num_epochs\u001b[38;5;241m=\u001b[39m\u001b[38;5;241m2000\u001b[39m)\n\u001b[0;32m---> 15\u001b[0m estimator\u001b[38;5;241m.\u001b[39mfit(X_train, y_train)\n\u001b[1;32m     16\u001b[0m name \u001b[38;5;241m=\u001b[39m \u001b[38;5;124m\"\u001b[39m\u001b[38;5;124mRidge with L2Reg=\u001b[39m\u001b[38;5;124m\"\u001b[39m\u001b[38;5;241m+\u001b[39m\u001b[38;5;28mstr\u001b[39m(l2reg)\n\u001b[1;32m     17\u001b[0m pred_fns\u001b[38;5;241m.\u001b[39mappend({\u001b[38;5;124m\"\u001b[39m\u001b[38;5;124mname\u001b[39m\u001b[38;5;124m\"\u001b[39m:name, \u001b[38;5;124m\"\u001b[39m\u001b[38;5;124mpreds\u001b[39m\u001b[38;5;124m\"\u001b[39m: estimator\u001b[38;5;241m.\u001b[39mpredict(X) })\n",
      "\u001b[0;31mAttributeError\u001b[0m: 'RidgeRegression' object has no attribute 'fit'"
     ]
    }
   ],
   "source": [
    "if __name__ == '__main__':\n",
    "    main()\n"
   ]
  },
  {
   "cell_type": "code",
   "execution_count": null,
   "id": "35667183",
   "metadata": {},
   "outputs": [],
   "source": []
  }
 ],
 "metadata": {
  "kernelspec": {
   "display_name": "Python 3 (ipykernel)",
   "language": "python",
   "name": "python3"
  },
  "language_info": {
   "codemirror_mode": {
    "name": "ipython",
    "version": 3
   },
   "file_extension": ".py",
   "mimetype": "text/x-python",
   "name": "python",
   "nbconvert_exporter": "python",
   "pygments_lexer": "ipython3",
   "version": "3.11.5"
  }
 },
 "nbformat": 4,
 "nbformat_minor": 5
}
