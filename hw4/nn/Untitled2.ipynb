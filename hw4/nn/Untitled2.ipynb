{
 "cells": [
  {
   "cell_type": "code",
   "execution_count": 1,
   "id": "defad561",
   "metadata": {},
   "outputs": [],
   "source": [
    "import pdb\n",
    "#pdb.set_trace()\n",
    "# @unittest.skip(\"slowing me down\")\n",
    "\n",
    "import unittest\n",
    "import logging\n",
    "import ridge_regression as ridge\n",
    "import numpy as np\n",
    "import test_utils\n",
    "import graph\n",
    "import nodes"
   ]
  },
  {
   "cell_type": "code",
   "execution_count": 2,
   "id": "fc990b31",
   "metadata": {},
   "outputs": [],
   "source": [
    "logging.basicConfig(format='%(levelname)s: %(message)s',level=logging.DEBUG)\n"
   ]
  },
  {
   "cell_type": "code",
   "execution_count": 5,
   "id": "2ed49b79",
   "metadata": {},
   "outputs": [],
   "source": [
    "class TestAll(unittest.TestCase):\n",
    "\n",
    "    def test_SumNode(self):\n",
    "        max_allowed_rel_err = 1e-5\n",
    "        a = nodes.ValueNode(\"a\")\n",
    "        b = nodes.ValueNode(\"b\")\n",
    "        dims = ()\n",
    "        a_val = np.array(np.random.standard_normal(dims))\n",
    "        b_val = np.array(np.random.standard_normal(dims))\n",
    "        sum_node = nodes.SumNode(a, b, \"sum node\")\n",
    "\n",
    "        init_vals = {\"a\":a_val, \"b\":b_val}\n",
    "        max_rel_err = test_utils.test_node_backward(sum_node, init_vals, delta=1e-7)\n",
    "        self.assertTrue(max_rel_err < max_allowed_rel_err)\n",
    "        \n",
    "    def test_L2NormPenaltyNode(self):\n",
    "        max_allowed_rel_err = 1e-5\n",
    "        l2_reg = np.array(4.0)\n",
    "        w = nodes.ValueNode(\"w\")\n",
    "        l2_norm_node = nodes.L2NormPenaltyNode(l2_reg, w, \"l2 norm node\")\n",
    "        d = (5)\n",
    "        init_vals = {\"w\":np.array(np.random.standard_normal(d))}\n",
    "        max_rel_err = test_utils.test_node_backward(l2_norm_node, init_vals, delta=1e-7)\n",
    "        self.assertTrue(max_rel_err < max_allowed_rel_err)\n"
   ]
  },
  {
   "cell_type": "code",
   "execution_count": 6,
   "id": "8d906dcf",
   "metadata": {},
   "outputs": [
    {
     "name": "stderr",
     "output_type": "stream",
     "text": [
      "E\n",
      "======================================================================\n",
      "ERROR: /Users/tapankhaladkar/Library/Jupyter/runtime/kernel-47d1a5d1-1deb-4645-a6c4-0275f19e88dc (unittest.loader._FailedTest./Users/tapankhaladkar/Library/Jupyter/runtime/kernel-47d1a5d1-1deb-4645-a6c4-0275f19e88dc)\n",
      "----------------------------------------------------------------------\n",
      "AttributeError: module '__main__' has no attribute '/Users/tapankhaladkar/Library/Jupyter/runtime/kernel-47d1a5d1-1deb-4645-a6c4-0275f19e88dc'\n",
      "\n",
      "----------------------------------------------------------------------\n",
      "Ran 1 test in 0.002s\n",
      "\n",
      "FAILED (errors=1)\n"
     ]
    },
    {
     "ename": "SystemExit",
     "evalue": "True",
     "output_type": "error",
     "traceback": [
      "An exception has occurred, use %tb to see the full traceback.\n",
      "\u001b[0;31mSystemExit\u001b[0m\u001b[0;31m:\u001b[0m True\n"
     ]
    },
    {
     "name": "stderr",
     "output_type": "stream",
     "text": [
      "/Users/tapankhaladkar/anaconda3/lib/python3.11/site-packages/IPython/core/interactiveshell.py:3534: UserWarning: To exit: use 'exit', 'quit', or Ctrl-D.\n",
      "  warn(\"To exit: use 'exit', 'quit', or Ctrl-D.\", stacklevel=1)\n"
     ]
    }
   ],
   "source": [
    "if __name__ == \"__main__\":\n",
    "    unittest.main()"
   ]
  },
  {
   "cell_type": "code",
   "execution_count": null,
   "id": "48b16479",
   "metadata": {},
   "outputs": [],
   "source": []
  }
 ],
 "metadata": {
  "kernelspec": {
   "display_name": "Python 3 (ipykernel)",
   "language": "python",
   "name": "python3"
  },
  "language_info": {
   "codemirror_mode": {
    "name": "ipython",
    "version": 3
   },
   "file_extension": ".py",
   "mimetype": "text/x-python",
   "name": "python",
   "nbconvert_exporter": "python",
   "pygments_lexer": "ipython3",
   "version": "3.11.5"
  }
 },
 "nbformat": 4,
 "nbformat_minor": 5
}
